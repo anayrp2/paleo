{
 "cells": [
  {
   "cell_type": "code",
   "execution_count": 1,
   "id": "b5f7a586",
   "metadata": {},
   "outputs": [],
   "source": [
    "import xarray as xr\n",
    "import numpy as np\n",
    "import netCDF4\n",
    "from matplotlib import pyplot as plt\n",
    "import cartopy\n",
    "import cartopy.crs as ccrs\n",
    "import matplotlib.colors as mcolors\n",
    "import iris\n",
    "import iris.quickplot as qplt\n",
    "import pandas as pd\n",
    "from scipy import stats\n",
    "import cartopy.feature as cfeature\n",
    "from sklearn.metrics import mean_absolute_percentage_error\n",
    "from sklearn.metrics import mean_absolute_error\n",
    "from sklearn.metrics import mean_squared_error"
   ]
  },
  {
   "cell_type": "code",
   "execution_count": 2,
   "id": "bd090967",
   "metadata": {},
   "outputs": [],
   "source": [
    "d18O_all = xr.open_dataarray('/data/keeling/a/anayrp2/CESM/d18O_all.nc')\n",
    "salt_all = xr.open_dataarray('/data/keeling/a/anayrp2/CESM/salt_all.nc')\n",
    "precip_all = xr.open_dataarray('/data/keeling/a/anayrp2/CESM/precip_all.nc')"
   ]
  },
  {
   "cell_type": "code",
   "execution_count": 3,
   "id": "64235aeb",
   "metadata": {},
   "outputs": [],
   "source": [
    "salt_all.load();"
   ]
  },
  {
   "cell_type": "code",
   "execution_count": 4,
   "id": "19dcc6a5",
   "metadata": {},
   "outputs": [],
   "source": [
    "d18O_all.load();"
   ]
  },
  {
   "cell_type": "code",
   "execution_count": 5,
   "id": "a8f5742d",
   "metadata": {},
   "outputs": [],
   "source": [
    "precip_all.load();"
   ]
  },
  {
   "cell_type": "code",
   "execution_count": null,
   "id": "7a13000a",
   "metadata": {},
   "outputs": [],
   "source": []
  }
 ],
 "metadata": {
  "kernelspec": {
   "display_name": "Python (paleo)",
   "language": "python",
   "name": "paleo"
  },
  "language_info": {
   "codemirror_mode": {
    "name": "ipython",
    "version": 3
   },
   "file_extension": ".py",
   "mimetype": "text/x-python",
   "name": "python",
   "nbconvert_exporter": "python",
   "pygments_lexer": "ipython3",
   "version": "3.9.13"
  }
 },
 "nbformat": 4,
 "nbformat_minor": 5
}
